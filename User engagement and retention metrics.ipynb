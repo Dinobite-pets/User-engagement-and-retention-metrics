{
 "cells": [
  {
   "cell_type": "markdown",
   "metadata": {
    "id": "T_xBU6WvyPhY"
   },
   "source": [
    "**Скрипт для расчета метрик пользовательской активности мобильного приложения:**\n",
    "* retention\n",
    "* rolling retention\n",
    "* lifetime\n",
    "* churn rate\n",
    "* mau\n",
    "* wau\n",
    "* dau"
   ]
  },
  {
   "cell_type": "markdown",
   "metadata": {
    "id": "vnMFicli7Fa7"
   },
   "source": [
    "Файлами для работы являются `registrations.csv` и `entries.csv`. В них хранятся данные о регистрациях пользователей и входа на платформу соответственно."
   ]
  },
  {
   "cell_type": "markdown",
   "metadata": {
    "id": "s2g2hxfMzqLo"
   },
   "source": [
    "### **Retention 15 дня (в процентах) для пользователей, зарегистрированных в январе**"
   ]
  },
  {
   "cell_type": "code",
   "execution_count": null,
   "metadata": {
    "colab": {
     "base_uri": "https://localhost:8080/"
    },
    "id": "u5l9mm-vzpJ8",
    "outputId": "9c5a503f-2fd3-44f8-f949-901f048d3dac"
   },
   "outputs": [],
   "source": [
    "#для когорты \"зарегистрированных в январе\", активных на 15 день с момента регистрации\n",
    "#Retention = (Число активных в 15 день с момента регистрации пользователей / Число пользователей, зарегистрированных в январе) * 100%\n",
    "\n",
    "import datetime\n",
    "with open('registrations.csv', 'r') as registr, open('entries.csv', 'r') as entries:\n",
    "\n",
    "  # читаем строки файла и получаем список из строк str файла, каждая строка - набор данных, разделенных (;) и в конце (\\n)\n",
    "  reg_raw = registr.readlines() #список из строк ['col1;col2\\n', 'col1;col2\\n' ,'col1;col2\\n']\n",
    "  ent_raw = entries.readlines() #список из строк ['col1;col2\\n', 'col1;col2\\n' ,'col1;col2\\n']\n",
    "\n",
    "  # обработаем списки, удалив символ новой строки \\n\n",
    "  reg = []\n",
    "  ent = []\n",
    "  for i in reg_raw:\n",
    "    i = i.strip()\n",
    "    reg.append(i)\n",
    "  for i in ent_raw:\n",
    "    i = i.strip()\n",
    "    ent.append(i)\n",
    "\n",
    "#создаем список id, для когорты \"зарегестрированные в январе\"\n",
    "reg_jan = []\n",
    "for i in reg[1:]:#берем срез с 1-го элемента т.к. 0-ой это строка заголовка\n",
    "  row = i.split(';') #список элементов строки, разделенной по (;) пример: ['1', '2024-01-01]\n",
    "\n",
    "  #создаем instance of datetime и сравниваем дату с диапазоном 1-31 января\n",
    "  date_i = datetime.datetime.strptime(row[1], '%Y-%m-%d')\n",
    "  if date_i >= datetime.datetime.strptime('2024-1-1','%Y-%m-%d') and date_i <= datetime.datetime.strptime('2024-1-31','%Y-%m-%d'):\n",
    "    reg_jan.append(row)# - СПИСОК ЗАРЕГИСТИРОВАННЫХ В ЯНВАРЕ 2024\n",
    "\n",
    "#Определяем кол-во пользователлей, зарегистированных в январе 2024\n",
    "counts_jan = len(reg_jan)\n",
    "\n",
    "#Сканируем entries списком reg_jan (зарегистрированных в январе):\n",
    "#Берем id и date из reg_jan и ищем совпадения id в ent, при проверке условия: дата из ent должна соответсвоать дате из reg_jan+15\n",
    "\n",
    "entr_jan_15 = []# - спсиок entries для когорты 'зарег. в январе'\n",
    "for i in reg_jan:# берем метку id и date\n",
    "  registration_date = datetime.datetime.strptime(i[1], '%Y-%m-%d')\n",
    "  for row in ent[1:]: # ищем метку id в списках(элементах)-списка\n",
    "    row = row.split(';') #список элементов строки, разделенной по (;) пример: ['1', '2024-01-01]\n",
    "    entry_date = datetime.datetime.strptime(row[1], '%Y-%m-%d')\n",
    "    if row[0] == i[0] and entry_date == (registration_date + datetime.timedelta(days=15)):\n",
    "      entr_jan_15.append(row)\n",
    "#entr_jan_15 - содержит неоднократные входы одного и того же пользователя, их нужно мерджить для одного  и тогоже id\n",
    "\n",
    "#Оставим только уникальные id из списка entr_jan_15\n",
    "#Создадим set, тогда при добавлении идентичных id их дубликаты будут удаляться\n",
    "entr_jan_15_id =set()\n",
    "for i in entr_jan_15:\n",
    "  entr_jan_15_id.add(i[0])\n",
    "\n",
    "#Определяем кол-во entries на 15 день с момента регистрации, для когорты пользователлей  \"ЗАРЕГИСТИРОВАННЫХ В ЯНВАРЕ 2024\"\n",
    "counts_entr_15 = len(entr_jan_15_id)\n",
    "\n",
    "retention_15_day = (counts_entr_15 / counts_jan) * 100\n",
    "retention_15_day = round(retention_15_day, 5)\n",
    "\n",
    "print(retention_15_day)"
   ]
  },
  {
   "cell_type": "markdown",
   "metadata": {
    "id": "TbkdEVLI0Cor"
   },
   "source": [
    "### **Rolling-retention 30 дня (в процентах) для пользователей из той же когорты**"
   ]
  },
  {
   "cell_type": "code",
   "execution_count": null,
   "metadata": {
    "colab": {
     "base_uri": "https://localhost:8080/"
    },
    "id": "keCBmUDJ0Hho",
    "outputId": "7272c65c-e547-4178-98e1-c245ae500eff"
   },
   "outputs": [],
   "source": [
    "import datetime\n",
    "with open('registrations.csv', 'r') as registr, open('entries.csv', 'r') as entries:\n",
    "\n",
    "  # читаем строки файла и получаем список из строк str файла, каждая строка - набор данных, разделенных (;) и в конце (\\n)\n",
    "  reg_raw = registr.readlines() #список из строк ['col1;col2\\n', 'col1;col2\\n' ,'col1;col2\\n']\n",
    "  ent_raw = entries.readlines() #список из строк ['col1;col2\\n', 'col1;col2\\n' ,'col1;col2\\n']\n",
    "\n",
    "  # обработаем списки, удалив символ новой строки \\n\n",
    "  reg = []\n",
    "  ent = []\n",
    "  for i in reg_raw:\n",
    "    i = i.strip()\n",
    "    reg.append(i)\n",
    "  for i in ent_raw:\n",
    "    i = i.strip()\n",
    "    ent.append(i)\n",
    "\n",
    "#создаем список id, для когорты \"зарегестрированные в январе\"\n",
    "reg_jan = []\n",
    "for i in reg[1:]:#берем срез с 1-го элемента т.к. 0-ой это строка заголовка\n",
    "  row = i.split(';') #список элементов строки, разделенной по (;) пример: ['1', '2024-01-01]\n",
    "\n",
    "  #создаем instance of datetime и сравниваем дату с диапазоном 1-31 января\n",
    "  date_i = datetime.datetime.strptime(row[1], '%Y-%m-%d')\n",
    "  if date_i >= datetime.datetime.strptime('2024-1-1','%Y-%m-%d') and date_i <= datetime.datetime.strptime('2024-1-31','%Y-%m-%d'):\n",
    "    reg_jan.append(row)# - СПИСОК ЗАРЕГИСТИРОВАННЫХ В ЯНВАРЕ 204\n",
    "\n",
    "#Определяем кол-во пользователлей, зарегистированных в январе 2024\n",
    "counts_jan = len(reg_jan)\n",
    "\n",
    "#Сканируем entries списком reg_jan (зарегистрированных в январе):\n",
    "#Берем id и date из reg_jan и ищем совпадения id в ent, при проверке условия: дата из ent должна соответсвоать дате из reg_jan+15\n",
    "\n",
    "entr_jan_30 = []# - спсиок entries для когорты 'зарег. в январе'\n",
    "for i in reg_jan:# берем метку id и date\n",
    "  registration_date = datetime.datetime.strptime(i[1], '%Y-%m-%d')\n",
    "  for row in ent[1:]: # ищем метку id в списках(элементах)-списка\n",
    "    row = row.split(';') #список элементов строки, разделенной по (;) пример: ['1', '2024-01-01]\n",
    "    entry_date = datetime.datetime.strptime(row[1], '%Y-%m-%d')\n",
    "    if row[0] == i[0] and entry_date == (registration_date + datetime.timedelta(days=30)):\n",
    "      entr_jan_30.append(row)\n",
    "#entr_jan_30 - содержит неоднократные входы одного и того же пользователя, их нужно мерджить для одного  и тогоже id\n",
    "\n",
    "#Выберим только id из списка entr_jan_30\n",
    "#Создадим set, тогда при добавлении идентичных id их дубликаты будут удаляться\n",
    "entr_jan_30_id =set()\n",
    "for i in entr_jan_30:\n",
    "  entr_jan_30_id.add(i[0])\n",
    "\n",
    "#Определяем кол-во entries на 30 день с момента регистрации, для когорты пользователлей  \"ЗАРЕГИСТИРОВАННЫХ В ЯНВАРЕ 2024\"\n",
    "counts_entr_30 = len(entr_jan_30_id)\n",
    "\n",
    "rolling_retention = (counts_entr_30 / counts_jan) * 100\n",
    "rolling_retention = round(rolling_retention, 5)\n",
    "\n",
    "print(rolling_retention)"
   ]
  },
  {
   "cell_type": "markdown",
   "metadata": {
    "id": "wxkhEVmF0PAo"
   },
   "source": [
    "### **Lifetime по всем пользователям, как интеграл от n-day retention**"
   ]
  },
  {
   "cell_type": "code",
   "execution_count": null,
   "metadata": {
    "colab": {
     "base_uri": "https://localhost:8080/"
    },
    "id": "KS17l5Ux0UD3",
    "outputId": "039d7ea9-ba0d-4213-a1df-28ce5e7f662c"
   },
   "outputs": [],
   "source": [
    "\n",
    "\"\"\" Структура расчета Lifetime не для когорты, а для всех пользователей, как инетграл n-day retention:\n",
    "0. Чтение данных из файла и очистка от \\n\n",
    "1. Форматирование данных\n",
    "  1.1 Создать СЛОВАРЬ id и дат регистрации\n",
    "  1.2 Создать СЛОВАРЬ id уникальных активных пользователей для каждой даты\n",
    "      Создать словарь, где key-'str'('дата'), а value-set('id1', 'id2',...)- для удаления дубликатов повторяющихся id. Используем структуру: {'ДАТА':{'1','4','5','7'...},...}\n",
    "  1.3 Создать список количества активных пользователей на первые 30 дней после регистрации\n",
    "2. Определить функцию удержания на основе закона отрицательного экспоненциального распределения\n",
    "3. Методом трапеций определить lifetime, как интеграл (площадь под кривой = сумме трапеций\n",
    "          (n-retention))\n",
    "\"\"\"\n",
    "\n",
    "\"\"\"0. Чтение данных из файла и очистка от \\n\"\"\"\n",
    "\n",
    "import math\n",
    "import datetime\n",
    "with open('registrations.csv', 'r') as registr, open('entries.csv', 'r') as entries:\n",
    "\n",
    "    # читаем строки файла и получаем список из строк str файла, каждая строка - набор данных, разделенных (;) и в конце (\\n)\n",
    "  reg_raw = registr.readlines() #список из строк ['col1;col2\\n', 'col1;col2\\n' ,'col1;col2\\n']\n",
    "  ent_raw = entries.readlines() #список из строк ['col1;col2\\n', 'col1;col2\\n' ,'col1;col2\\n']\n",
    "\n",
    "  # обработаем списки, удалив символ новой строки \\n\n",
    "  reg = []\n",
    "  ent = []\n",
    "  for i in reg_raw:\n",
    "    i = i.strip()\n",
    "    reg.append(i)\n",
    "  for i in ent_raw:\n",
    "    i = i.strip()\n",
    "    ent.append(i)\n",
    "\"\"\"1. Форматирование данных\"\"\"\n",
    "\"\"\"1.1 Создать СЛОВАРЬ id и дат регистрации\"\"\"\n",
    "\n",
    "reg_id_date = {}# ФИНАЛЬНЫЙ СЛОВАРЬ РЕГИСТРАЦИИ ID {'id':'дата регистрации']. например: {'1':'2024-01-01,...}\n",
    "\n",
    "for i in reg[1:]:#берем срез с 1-го элемента т.к. 0-ой это строка заголовка\n",
    "  row = i.split(';') #список элементов строки, разделенной по (;) пример: ['1', '2024-01-01]\n",
    "  reg_id_date[row[0]]=row[1]\n",
    "\n",
    "print('reg_id_date:', reg_id_date)\n",
    "\n",
    "\"\"\"1.2 Создать СЛОВАРЬ id уникальных активных пользователей для каждой даты\"\"\"\n",
    "\n",
    "unique_users_per_date = {}#ФИНАЛЬНЫЙ СЛОВАРЬ ДАТ И НАБОРА УНИКАЛЬНЫХ ID. Используем структуру: {'ДАТА':{'1','4','5','7'...},...}\n",
    "\n",
    "for i in ent[1:]:\n",
    "  row = i.split(';')#список элементов строки, разделенной по (;) пример: ['1', '2024-01-01']\n",
    "  if row[1] not in unique_users_per_date:# проверяем есть ли такой key('дата') в словаре\n",
    "    unique_users_per_date[row[1]] = set()# если нет созаем item (key('дата'):value(set(пустой)))\n",
    "  unique_users_per_date[row[1]].add(row[0])# добавляем id в value (set('int'))  по ключу data\n",
    "\n",
    "print('unique_users_per_date:',unique_users_per_date)\n",
    "\n",
    "\n",
    "\"\"\"1.3 Создать список количества активных пользователей на первые 30 дней после регистрации\"\"\"\n",
    "\n",
    "# Функция для подсчета активных пользователей\n",
    "def count_active_users(reg_id_date , unique_users_per_date):\n",
    "  #количество дней для анализа\n",
    "  n_days = 30\n",
    "\n",
    "  # Список для хранения количества активных пользователей по дням\n",
    "  active_counts = [0] * n_days\n",
    "\n",
    "  # Перебираем пользователей\n",
    "  for user_id, registration_date in reg_id_date.items():\n",
    "      # Проверяем активность пользователя в течение 30 дней после регистрации\n",
    "      for day_offset in range(n_days):\n",
    "          # Формируем дату с учетом смещения\n",
    "          current_day = f'{registration_date[0:7]}-{int(registration_date[8:10]) + day_offset}'\n",
    "\n",
    "          # Проверяем, есть ли такая дата в посещениях и заходил ли пользователь в этот день\n",
    "          if current_day in unique_users_per_date and user_id in unique_users_per_date[current_day]:\n",
    "              active_counts[day_offset] += 1\n",
    "\n",
    "  return active_counts\n",
    "\n",
    "# Вызываем функцию 'count_active_users'\n",
    "#ФИНАЛЬНЫЙ СПИСОК КОЛИЧЕСТВА АКТИВНЫХ ПОЛЬЗОВТАЕЛЕЙ НА КАЖДЫЙ ДЕНЬ В ТЕЧЕНИИИ 30 ДНЕЙ С МОСЕНТА РЕГИСТРАЦИИ\n",
    "active_user_counts = count_active_users(reg_id_date, unique_users_per_date)\n",
    "\n",
    "\"\"\"2. Определить функцию удержания на основе закона отрицательного экспоненциального распределения\"\"\"\n",
    "\n",
    "#Моделирование функции удержания\n",
    "beta = -log(active_user_counts[1] / active_user_counts[0])\n",
    "retention_function = lambda x: active_user_counts[0] * math.exp(-beta * x)\n",
    "\n",
    "\"\"\"3. Методом трапеций определить lifetime, как интеграл (площадь под кривой = сумме трапеций (n-retention))\"\"\"\n",
    "\n",
    "n_retention = []\n",
    "for i in range(len(active_user_counts) - 1):\n",
    "    n_retention.append((retention_function(i) + retention_function(i + 1)) / 2)\n",
    "\n",
    "lifetime_my = sum(n_retention)\n",
    "lifetime_my = round(lifetime, 5)\n",
    "print('lifetime:', lifetime_my)"
   ]
  },
  {
   "cell_type": "markdown",
   "metadata": {
    "id": "OrwoZ-wR0jJq"
   },
   "source": [
    "### **Churn rate 29 дня (в долях), по всем пользователям**"
   ]
  },
  {
   "cell_type": "code",
   "execution_count": null,
   "metadata": {
    "colab": {
     "base_uri": "https://localhost:8080/"
    },
    "id": "hKN7vidq0mJ3",
    "outputId": "a4af99d2-595e-4f79-dfbd-1f364cf0246d"
   },
   "outputs": [],
   "source": [
    "'''\n",
    "Monthly Churn Rate:\n",
    "Churn Rate for time window 29 days = (# of users didn't use the app since registration date for 29 day) /\n",
    "                                     (# of users are registred)\n",
    "'''\n",
    "import math\n",
    "import datetime\n",
    "with open('registrations.csv', 'r') as registr, open('entries.csv', 'r') as entries:\n",
    "    # Используем list comprehensions\n",
    "    reg = [line.strip().split(';') for line in registr] #Список-списков (из элементов строк, разбитых по (;)) [['user_id', 'registration_date'],...]\n",
    "    ent = [line.strip().split(';') for line in entries] #Список-списков (из элементов строк, разбитых по (;)) [['user_id', 'entry_date'],...]\n",
    "\n",
    "#Функция расчета оттока пользователей\n",
    "def churn_rate (users_active_29, reg):\n",
    "  users_unactive_29 = len(reg) - len(users_active_29) # -кол-во пользователей,  неактивных в течениие 28 дней с момента регис-ии\n",
    "  churn_29 = users_unactive_29 / len(reg)\n",
    "  return  churn_29\n",
    "\n",
    "#Создадим список id пользователей, активных в теч. 28 дней с момента регистрации\n",
    "users_active_29 = set()\n",
    "for i in reg[1:]:\n",
    "  reg_date = (datetime.datetime.strptime(i[1],'%Y-%m-%d'))\n",
    "  for j in ent[1:]:\n",
    "    if j[0] == i[0] and ( (reg_date + datetime.timedelta(days=28)) >\n",
    "                      datetime.datetime.strptime(j[1],'%Y-%m-%d') >\n",
    "                      reg_date ):\n",
    "      users_active_29.add(j[0])\n",
    "\n",
    "churn_29 = churn_rate(users_active_29, reg)\n",
    "print(churn_29)"
   ]
  },
  {
   "cell_type": "markdown",
   "metadata": {
    "id": "QuO3ZwRI5mdH"
   },
   "source": [
    "### **Mau, Wau, Dau за последний месяц/неделю/день записей**\n",
    "**Примечание:** последний месяц записей - декабрь. Поэтому `mau` рассчитываем для декабря (2024 года), для `wau` берем последнюю неделю - с 25 по 31 декабря, и для `dau` соответственно последний день - 31 декабря."
   ]
  },
  {
   "cell_type": "code",
   "execution_count": null,
   "metadata": {
    "colab": {
     "base_uri": "https://localhost:8080/"
    },
    "id": "HxGWkaSp5kpo",
    "outputId": "7521b7e9-aeb5-42b3-9747-5dc8b9e44389"
   },
   "outputs": [],
   "source": [
    "'''\n",
    "MAU - Monthly Unic Active Users\n",
    "'''\n",
    "import math\n",
    "import datetime\n",
    "with open('registrations.csv', 'r') as registr, open('entries.csv', 'r') as entries:\n",
    "    # Используем list comprehensions\n",
    "    reg = [line.strip().split(';') for line in registr] #Список-списков (из элементов строк, разбитых по (;)) [['user_id', 'registration_date'],...]\n",
    "    ent = [line.strip().split(';') for line in entries] #Список-списков (из элементов строк, разбитых по (;)) [['user_id', 'entry_date'],...]\n",
    "\n",
    "unic_users_active_in_dec = set()\n",
    "for i in reg[1:]:\n",
    "  for j in ent[1:]:\n",
    "    if j[0] == i[0] and (( datetime.datetime.strptime('2024-12-31','%Y-%m-%d')) >=\n",
    "                      datetime.datetime.strptime(j[1],'%Y-%m-%d') >=\n",
    "                      datetime.datetime.strptime('2024-12-01','%Y-%m-%d')):\n",
    "      unic_users_active_in_dec.add(j[0])\n",
    "\n",
    "dec_mau = float(round(len(unic_users_active_in_dec),5))\n",
    "print(dec_mau)"
   ]
  },
  {
   "cell_type": "code",
   "execution_count": null,
   "metadata": {
    "colab": {
     "base_uri": "https://localhost:8080/"
    },
    "id": "urEWcCuk522y",
    "outputId": "75a9b04b-3258-4a80-a229-aecf89237cf5"
   },
   "outputs": [
    {
     "name": "stdout",
     "output_type": "stream",
     "text": [
      "84.0\n"
     ]
    }
   ],
   "source": [
    "'''\n",
    "WAU - Weakly Unic Active Users\n",
    "'''\n",
    "import math\n",
    "import datetime\n",
    "with open('registrations.csv', 'r') as registr, open('entries.csv', 'r') as entries:\n",
    "    # Используем list comprehensions\n",
    "    reg = [line.strip().split(';') for line in registr] #Список-списков (из элементов строк, разбитых по (;)) [['user_id', 'registration_date'],...]\n",
    "    ent = [line.strip().split(';') for line in entries] #Список-списков (из элементов строк, разбитых по (;)) [['user_id', 'entry_date'],...]\n",
    "\n",
    "unic_users_active_in_dec = set()\n",
    "for i in reg[1:]:\n",
    "  for j in ent[1:]:\n",
    "    if j[0] == i[0] and (( datetime.datetime.strptime('2024-12-31','%Y-%m-%d')) >=\n",
    "                      datetime.datetime.strptime(j[1],'%Y-%m-%d') >\n",
    "                      datetime.datetime.strptime('2024-12-25','%Y-%m-%d')):\n",
    "      unic_users_active_in_dec.add(j[0])\n",
    "\n",
    "dec_wau = float(round(len(unic_users_active_in_dec),5))\n",
    "print(dec_wau)"
   ]
  },
  {
   "cell_type": "code",
   "execution_count": null,
   "metadata": {
    "colab": {
     "base_uri": "https://localhost:8080/"
    },
    "id": "hv7Nz3TN59Ds",
    "outputId": "011df16c-0faf-48f6-dd5f-e7ee1b93337d"
   },
   "outputs": [
    {
     "name": "stdout",
     "output_type": "stream",
     "text": [
      "47.0\n"
     ]
    }
   ],
   "source": [
    "'''\n",
    "DAU - Daily Unic Active Users\n",
    "'''\n",
    "import math\n",
    "import datetime\n",
    "with open('registrations.csv', 'r') as registr, open('entries.csv', 'r') as entries:\n",
    "    # Используем list comprehensions\n",
    "    reg = [line.strip().split(';') for line in registr] #Список-списков (из элементов строк, разбитых по (;)) [['user_id', 'registration_date'],...]\n",
    "    ent = [line.strip().split(';') for line in entries] #Список-списков (из элементов строк, разбитых по (;)) [['user_id', 'entry_date'],...]\n",
    "\n",
    "unic_users_active_in_dec = set()\n",
    "for i in reg[1:]:\n",
    "  for j in ent[1:]:\n",
    "    if j[0] == i[0] and (\n",
    "                      datetime.datetime.strptime(j[1],'%Y-%m-%d') ==\n",
    "                      datetime.datetime.strptime('2024-12-31','%Y-%m-%d')):\n",
    "      unic_users_active_in_dec.add(j[0])\n",
    "\n",
    "dec_dau = float(round(len(unic_users_active_in_dec),5))\n",
    "print(dec_dau)"
   ]
  },
  {
   "cell_type": "markdown",
   "metadata": {
    "id": "gzElxXgv6Dyr"
   },
   "source": [
    "### **Mau, Wau, Dau усредненные**"
   ]
  },
  {
   "cell_type": "code",
   "execution_count": null,
   "metadata": {
    "colab": {
     "base_uri": "https://localhost:8080/"
    },
    "id": "mUDYPPqx6RPr",
    "outputId": "978c7098-2e0e-4d87-865c-3e231530a7eb"
   },
   "outputs": [
    {
     "name": "stdout",
     "output_type": "stream",
     "text": [
      "[86, 75, 162, 75, 119, 65, 111, 83, 77, 153, 92, 133]\n",
      "102.58333\n"
     ]
    }
   ],
   "source": [
    "'''\n",
    "avg MAU рассчитаем из расчета среднего по году\n",
    "'''\n",
    "import math\n",
    "import datetime\n",
    "with open('registrations.csv', 'r') as registr, open('entries.csv', 'r') as entries:\n",
    "    # Используем list comprehensions\n",
    "    reg = [line.strip().split(';') for line in registr] #Список-списков (из элементов строк, разбитых по (;)) [['user_id', 'registration_date'],...]\n",
    "    ent = [line.strip().split(';') for line in entries] #Список-списков (из элементов строк, разбитых по (;)) [['user_id', 'entry_date'],...]\n",
    "\n",
    "# Функция определения кол-ва дней в месяце не високосного года (28)\n",
    "def get_num_days_in_month(month_number):\n",
    "  if month_number == 2:\n",
    "      return 29  # 2024 был високосным годом\n",
    "  elif month_number in (4, 6, 9, 11):\n",
    "      return 30\n",
    "  else:\n",
    "      return 31\n",
    "\n",
    "unic_users_active_in_month = []\n",
    "\n",
    "for m in range(1,13):\n",
    "  d = get_num_days_in_month(m)\n",
    "  unic_users_active = set()\n",
    "  for i in reg[1:]:\n",
    "    for j in ent[1:]:\n",
    "      if j[0] == i[0] and (( datetime.datetime.strptime(f'2024-{m}-{d}','%Y-%m-%d')) >=\n",
    "                        datetime.datetime.strptime(j[1],'%Y-%m-%d') >=\n",
    "                        datetime.datetime.strptime(f'2024-{m}-01','%Y-%m-%d')):\n",
    "        unic_users_active.add(j[0])\n",
    "  unic_users_active_in_month.append(len(unic_users_active))\n",
    "print(unic_users_active_in_month)\n",
    "\n",
    "avg_mau = round((float(sum(unic_users_active_in_month)) / len(unic_users_active_in_month)),5)\n",
    "print(avg_mau)"
   ]
  },
  {
   "cell_type": "code",
   "execution_count": null,
   "metadata": {
    "colab": {
     "base_uri": "https://localhost:8080/"
    },
    "id": "WydV9g9C6x7O",
    "outputId": "b8631b70-8858-4636-9ade-5cbd042580d4"
   },
   "outputs": [
    {
     "name": "stdout",
     "output_type": "stream",
     "text": [
      "[128, 84, 84, 84, 84]\n",
      "92.8\n"
     ]
    }
   ],
   "source": [
    "'''\n",
    "avg WAU рассчитаем как MAU деденная на кол-во недель\n",
    "'''\n",
    "import math\n",
    "import datetime\n",
    "with open('registrations.csv', 'r') as registr, open('entries.csv', 'r') as entries:\n",
    "    # Используем list comprehensions\n",
    "    reg = [line.strip().split(';') for line in registr] #Список-списков (из элементов строк, разбитых по (;)) [['user_id', 'registration_date'],...]\n",
    "    ent = [line.strip().split(';') for line in entries] #Список-списков (из элементов строк, разбитых по (;)) [['user_id', 'entry_date'],...]\n",
    "\n",
    "#списое недель в декабре 2024\n",
    "week_dec = [['1', '4'], ['5', '11'], ['12','18'], ['19', '25'], ['26', '31']]# [['дата начала недели', 'дата конца недели'],...]\n",
    "\n",
    "unic_users_active_in_week = []\n",
    "\n",
    "for w in week_dec:\n",
    "  unic_users_active = set()\n",
    "  for i in reg[1:]:\n",
    "    for j in ent[1:]:\n",
    "      if j[0] == i[0] and (( datetime.datetime.strptime(f'2024-12-{w[1]}','%Y-%m-%d')) >=\n",
    "                        datetime.datetime.strptime(j[1],'%Y-%m-%d') >=\n",
    "                        datetime.datetime.strptime(f'2024-12-{w[0]}','%Y-%m-%d')):\n",
    "        unic_users_active.add(j[0])\n",
    "\n",
    "  unic_users_active_in_week.append(len(unic_users_active))\n",
    "\n",
    "avg_wau = round((float(sum(unic_users_active_in_week)) / len(unic_users_active_in_week)),5)\n",
    "print(unic_users_active_in_week)\n",
    "print(avg_wau)"
   ]
  },
  {
   "cell_type": "code",
   "execution_count": null,
   "metadata": {
    "colab": {
     "base_uri": "https://localhost:8080/"
    },
    "id": "NgqOR38d64_T",
    "outputId": "68a09d0c-8bb1-427a-e7c9-edea93eb9ba9"
   },
   "outputs": [
    {
     "name": "stdout",
     "output_type": "stream",
     "text": [
      "[42, 50, 52, 44, 38, 46, 47]\n",
      "45.57143\n"
     ]
    }
   ],
   "source": [
    "'''\n",
    "avg DAU рассчитаем из расчета среднего за последнюю неделю\n",
    "'''\n",
    "import math\n",
    "import datetime\n",
    "with open('registrations.csv', 'r') as registr, open('entries.csv', 'r') as entries:\n",
    "    # Используем list comprehensions\n",
    "    reg = [line.strip().split(';') for line in registr] #Список-списков (из элементов строк, разбитых по (;)) [['user_id', 'registration_date'],...]\n",
    "    ent = [line.strip().split(';') for line in entries] #Список-списков (из элементов строк, разбитых по (;)) [['user_id', 'entry_date'],...]\n",
    "\n",
    "unic_users_active_in_day = []\n",
    "\n",
    "for d in range(25,32):\n",
    "\n",
    "  unic_users_active = set()\n",
    "  for i in reg[1:]:\n",
    "    for j in ent[1:]:\n",
    "      if j[0] == i[0] and (\n",
    "                        datetime.datetime.strptime(j[1],'%Y-%m-%d') ==\n",
    "                        datetime.datetime.strptime(f'2024-12-{d}','%Y-%m-%d')):\n",
    "        unic_users_active.add(j[0])\n",
    "  unic_users_active_in_day.append(len(unic_users_active))\n",
    "print(unic_users_active_in_day)\n",
    "\n",
    "aver_dau = round((float(sum(unic_users_active_in_day)) / len(unic_users_active_in_day)),5)\n",
    "print(aver_dau)"
   ]
  }
 ],
 "metadata": {
  "colab": {
   "provenance": []
  },
  "kernelspec": {
   "display_name": "Python 3 (ipykernel)",
   "language": "python",
   "name": "python3"
  },
  "language_info": {
   "codemirror_mode": {
    "name": "ipython",
    "version": 3
   },
   "file_extension": ".py",
   "mimetype": "text/x-python",
   "name": "python",
   "nbconvert_exporter": "python",
   "pygments_lexer": "ipython3",
   "version": "3.12.4"
  }
 },
 "nbformat": 4,
 "nbformat_minor": 4
}
